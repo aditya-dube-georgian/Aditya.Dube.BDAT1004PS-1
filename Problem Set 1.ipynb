{
 "cells": [
  {
   "cell_type": "markdown",
   "id": "0263a678",
   "metadata": {},
   "source": [
    "<b>Question1 :What data type is each of the following (evaluate where necessary)?<br>\n",
    "5<br>\n",
    "5.0<br>\n",
    "5 > 1<br>\n",
    "'5'<br>\n",
    "5 * 2<br>\n",
    "'5' * 2<br>\n",
    "'5' + '2'<br>\n",
    "5 / 2<br>\n",
    "5 % 2<br>\n",
    "{5, 2, 1}<br>\n",
    "5 == 3<br>\n",
    "Pi (the number)<br>\n",
    "\n",
    "\n",
    "Answer :\n",
    "<br>\n",
    "5 - Integer <br>\n",
    "5.0 - Double <br>\n",
    "5 > 1 - Boolean (True)<br>\n",
    "'5' - String<br>\n",
    "5 * 2 - Integer<br>\n",
    "'5' * 2 - String<br>\n",
    "'5' + '2' - String<br>\n",
    "5 / 2 - Float<br>\n",
    "5 % 2 - Integer<br>\n",
    "{5, 2, 1} - List<br>\n",
    "5 == 3 - Boolean (False)<br>\n",
    "Pi - Float<br>\n"
   ]
  },
  {
   "cell_type": "markdown",
   "id": "25032ba4",
   "metadata": {},
   "source": [
    "<b>Question 2 :<br>\n",
    "\n",
    "<b>a. How many letters are there in 'Supercalifragilisticexpialidocious'?<br>\n"
   ]
  },
  {
   "cell_type": "code",
   "execution_count": 5,
   "id": "4fb77ec1",
   "metadata": {},
   "outputs": [
    {
     "name": "stdout",
     "output_type": "stream",
     "text": [
      "Number of letters: 34\n"
     ]
    }
   ],
   "source": [
    "word = 'Supercalifragilisticexpialidocious'\n",
    "tot_letters = len(word)\n",
    "print(\"Number of letters:\", tot_letters)\n"
   ]
  },
  {
   "cell_type": "markdown",
   "id": "3a39cdfa",
   "metadata": {},
   "source": [
    "<b>b. Does 'Supercalifragilisticexpialidocious' contain 'ice' as a substring? \n"
   ]
  },
  {
   "cell_type": "code",
   "execution_count": 9,
   "id": "1e3477bd",
   "metadata": {},
   "outputs": [
    {
     "name": "stdout",
     "output_type": "stream",
     "text": [
      "Does the above work contains 'ice'? :--- True\n"
     ]
    }
   ],
   "source": [
    "word = 'Supercalifragilisticexpialidocious'\n",
    "contains_ice = 'ice' in word\n",
    "print(\"Does the above work contains 'ice'? :---\", contains_ice)\n"
   ]
  },
  {
   "cell_type": "markdown",
   "id": "a4aecb5f",
   "metadata": {},
   "source": [
    "<b>c. Which of the following words is the longest:<br>\n",
    "Supercalifragilisticexpialidocious, Honorificabilitudinitatibus, or<br>\n",
    "Bababadalgharaghtakamminarronnkonn?\n"
   ]
  },
  {
   "cell_type": "code",
   "execution_count": 12,
   "id": "3710f4e8",
   "metadata": {},
   "outputs": [
    {
     "name": "stdout",
     "output_type": "stream",
     "text": [
      "Longest word: Supercalifragilisticexpialidocious With 34 letters\n"
     ]
    }
   ],
   "source": [
    "words = ['Supercalifragilisticexpialidocious', 'Honorificabilitudinitatibus', 'Bababadalgharaghtakamminarronnkonn']\n",
    "longest_word = max(words, key=len)\n",
    "tot_letters = len(longest_word)\n",
    "print(\"Longest word:\", longest_word , \"With\", tot_letters, \"letters\")\n"
   ]
  },
  {
   "cell_type": "markdown",
   "id": "c4177428",
   "metadata": {},
   "source": [
    "<b>d. Which composer comes first in the dictionary: 'Berlioz', 'Borodin', 'Brian',\n",
    "'Bartok', 'Bellini', 'Buxtehude', 'Bernstein'. Which one comes last?"
   ]
  },
  {
   "cell_type": "code",
   "execution_count": 13,
   "id": "4101c0ea",
   "metadata": {},
   "outputs": [
    {
     "name": "stdout",
     "output_type": "stream",
     "text": [
      "First composer: Bartok\n",
      "Last composer: Buxtehude\n"
     ]
    }
   ],
   "source": [
    "composers = ['Berlioz', 'Borodin', 'Brian', 'Bartok', 'Bellini', 'Buxtehude', 'Bernstein']\n",
    "first_composer = min(composers)\n",
    "last_composer = max(composers)\n",
    "print(\"First composer:\", first_composer)\n",
    "print(\"Last composer:\", last_composer)\n"
   ]
  },
  {
   "cell_type": "markdown",
   "id": "85619d69",
   "metadata": {},
   "source": [
    "<b>Question 3:<br>\n",
    "    Implement function triangleArea(a,b,c) that takes as input the lengths of the 3\n",
    "sides of a triangle and returns the area of the triangle. By Heron's formula, the area\n",
    "of a triangle with side lengths a, b, and c is\n",
    "s(s - a)(s -b)(s -c)\n",
    ", where\n",
    "s = (a+b+c)/2.\n",
    "triangleArea(2,2,2)\n",
    "1.7320508075688772"
   ]
  },
  {
   "cell_type": "code",
   "execution_count": 17,
   "id": "601096ad",
   "metadata": {},
   "outputs": [
    {
     "name": "stdout",
     "output_type": "stream",
     "text": [
      "Area of Triangle : 1.7320508075688772\n"
     ]
    }
   ],
   "source": [
    "import math\n",
    "\n",
    "def triangleArea(a, b, c):\n",
    "    s = (a + b + c) / 2\n",
    "    area = math.sqrt(s * (s - a) * (s - b) * (s - c))\n",
    "    return area\n",
    "print(\"Area of Triangle :\" ,triangleArea(2, 2, 2))\n"
   ]
  },
  {
   "cell_type": "markdown",
   "id": "c361a0a3",
   "metadata": {},
   "source": [
    "<b>Question 4: <br>\n",
    "    Write a program in python to separate odd and even integers in separate arrays. Go\n",
    "to the editor\n",
    "Test Data :\n",
    "Input the number of elements to be stored in the array :5\n",
    "Input 5 elements in the array :\n",
    "element - 0 : 25\n",
    "element - 1 : 47\n",
    "element - 2 : 42\n",
    "element - 3 : 56\n",
    "element - 4 : 32\n",
    "Expected Output:\n",
    "The Even elements are:\n",
    "42 56 32\n",
    "The Odd elements are :\n",
    "25 47"
   ]
  },
  {
   "cell_type": "code",
   "execution_count": 20,
   "id": "0c269431",
   "metadata": {},
   "outputs": [
    {
     "name": "stdout",
     "output_type": "stream",
     "text": [
      "element - 0 : 25\n",
      "element - 1 : 47\n",
      "element - 2 : 42\n",
      "element - 3 : 56\n",
      "element - 4 : 32\n",
      "The Even elements are: 42 56 32\n",
      "The Odd elements are : 25 47\n"
     ]
    }
   ],
   "source": [
    "# taking input from user\n",
    "input_array = [int(input(f\"element - {i} : \")) for i in range(5)]\n",
    "\n",
    "# Separating odd and even numbers\n",
    "even_nums = [num for num in input_array if num % 2 == 0]\n",
    "odd_nums = [num for num in input_array if num % 2 != 0]\n",
    "\n",
    "print(\"The Even elements are:\", *even_nums)\n",
    "print(\"The Odd elements are :\", *odd_nums)\n"
   ]
  },
  {
   "cell_type": "markdown",
   "id": "72f6f245",
   "metadata": {},
   "source": [
    "<b>Question 5:<br>\n",
    "    a. Write a function inside(x,y,x1,y1,x2,y2) that returns True or False\n",
    "depending on whether the point (x,y) lies in the rectangle with lower left\n",
    "corner (x1,y1) and upper right corner (x2,y2).\n",
    " inside(1,1,0,0,2,3)\n",
    "True\n",
    " inside(-1,-1,0,0,2,3)\n",
    "False <br><br>\n",
    "b. Use function inside() from part a. to write an expression that tests whether\n",
    "the point (1,1) lies in both of the following rectangles: one with lower left\n",
    "corner (0.3, 0.5) and upper right corner (1.1, 0.7) and the other with lower\n",
    "left corner (0.5, 0.2) and upper right corner (1.1, 2). "
   ]
  },
  {
   "cell_type": "code",
   "execution_count": 24,
   "id": "7a85b9a3",
   "metadata": {},
   "outputs": [
    {
     "name": "stdout",
     "output_type": "stream",
     "text": [
      "True\n",
      "False\n"
     ]
    }
   ],
   "source": [
    "# a:\n",
    "\n",
    "def inside(x, y, x1, y1, x2, y2):\n",
    "    return x1 <= x <= x2 and y1 <= y <= y2\n",
    "print(inside(1, 1, 0, 0, 2, 3))\n",
    "print(inside(-1, -1, 0, 0, 2, 3))\n"
   ]
  },
  {
   "cell_type": "code",
   "execution_count": 25,
   "id": "589af0cd",
   "metadata": {},
   "outputs": [
    {
     "name": "stdout",
     "output_type": "stream",
     "text": [
      "False\n"
     ]
    }
   ],
   "source": [
    "# b:\n",
    "\n",
    "# Rectangle 1: (0.3, 0.5) to (1.1, 0.7)\n",
    "# Rectangle 2: (0.5, 0.2) to (1.1, 2)\n",
    "rectangle1 = inside(1, 1, 0.3, 0.5, 1.1, 0.7)\n",
    "rectangle2 = inside(1, 1, 0.5, 0.2, 1.1, 2)\n",
    "\n",
    "# Checking if the point (1, 1) lies within both rectangles\n",
    "print(rectangle1 and rectangle2)\n"
   ]
  },
  {
   "cell_type": "markdown",
   "id": "a7ee14a0",
   "metadata": {},
   "source": [
    "<b>Question 6:<br>\n",
    "    You can turn a word into pig-Latin using the following two rules (simplified):\n",
    "• If the word starts with a consonant, move that letter to the end and append\n",
    "'ay'. For example, 'happy' becomes 'appyhay' and 'pencil' becomes 'encilpay'.\n",
    "• If the word starts with a vowel, simply append 'way' to the end of the word.\n",
    "For example, 'enter' becomes 'enterway' and 'other' becomes 'otherway' . For\n",
    "our purposes, there are 5 vowels: a, e, i, o, u (so we count y as a consonant).\n",
    "Write a function pig() that takes a word (i.e., a string) as input and returns its pigLatin form. Your function should still work if the input word contains upper case\n",
    "characters. Your output should always be lower case however.\n",
    ">>> pig('happy')\n",
    "'appyhay'\n",
    ">>> pig('Enter')\n",
    "'enterway' \n",
    "\n",
    "\n",
    "    "
   ]
  },
  {
   "cell_type": "code",
   "execution_count": 1,
   "id": "ffa1db05",
   "metadata": {},
   "outputs": [
    {
     "name": "stdout",
     "output_type": "stream",
     "text": [
      "appyhay\n",
      "enterway\n",
      "Enter a word: qwerty\n",
      "Pig-Latin form: wertyqay\n"
     ]
    }
   ],
   "source": [
    "def pig(word):\n",
    "    vowels = {'a', 'e', 'i', 'o', 'u'}\n",
    "    #using word.lower fucntion\n",
    "    word = word.lower()\n",
    "    \n",
    "    if word[0] in vowels:\n",
    "        return word + 'way'\n",
    "    else:\n",
    "        return word[1:] + word[0] + 'ay'\n",
    "\n",
    "print(pig('happy')) \n",
    "print(pig('Enter')) \n",
    "\n",
    "# Take input from the user\n",
    "word = input(\"Enter a word: \")\n",
    "\n",
    "# Convert the word to its pig-Latin form and print the result\n",
    "print(\"Pig-Latin form:\", pig(word))\n"
   ]
  },
  {
   "cell_type": "markdown",
   "id": "2e763fca",
   "metadata": {},
   "source": [
    "<b>Question 7:<br>\n",
    "    File bloodtype1.txt records blood-types of patients (A, B, AB, O or OO) at a clinic.\n",
    "Write a function bldcount() that reads the file with name name and reports (i.e.,\n",
    "prints) how many patients there are in each bloodtype.\n",
    ">>> bldcount('bloodtype.txt')\n",
    "There are 10 patients of blood type A.\n",
    "There is one patient of blood type B.\n",
    "There are 10 patients of blood type AB.\n",
    "There are 12 patients of blood type O.\n",
    "There are no patients of blood type OO.\n"
   ]
  },
  {
   "cell_type": "code",
   "execution_count": 13,
   "id": "332dfd10",
   "metadata": {},
   "outputs": [
    {
     "name": "stdout",
     "output_type": "stream",
     "text": [
      "There are 15 patients of blood type A.\n",
      "There are 1 patients of blood type B.\n",
      "There are 13 patients of blood type AB.\n",
      "There are 15 patients of blood type O.\n",
      "There are 0 patients of blood type OO.\n"
     ]
    }
   ],
   "source": [
    "def bldcount(filename):\n",
    "    \n",
    "    x = open(filename,'r')\n",
    "    words = x.readline()\n",
    "    lst = []\n",
    "    blood_types = ['A','B','AB','O','OO']\n",
    "    \n",
    "    #Spliting the words and storing them in a list\n",
    "    lst.append(words.split(\" \"))\n",
    "    \n",
    "    #Count for blood types\n",
    "    for blood_type in blood_types:\n",
    "        print(\"There are {} patients of blood type {}.\".format(lst[0].count(blood_type),blood_type))\n",
    "\n",
    "bldcount('bloodtype1.txt')\n"
   ]
  },
  {
   "cell_type": "markdown",
   "id": "bba0ae01",
   "metadata": {},
   "source": [
    "<b>Question 8: <br>\n",
    "    <b>Write a function curconv() that takes as input:\n",
    "1. a currency represented using a string (e.g., 'JPY' for the Japanese Yen or\n",
    "'EUR' for the Euro)<br>\n",
    "2. an amount\n",
    "and then converts and returns the amount in US dollars.<br>\n",
    " curconv('EUR', 100)<br>\n",
    "122.96544<br>\n",
    "curconv('JPY', 100)<br>\n",
    "1.241401<br>\n",
    "The currency rates you will need are stored in file currencies.txt:\n",
    "AUD 1.0345157 Australian Dollar<br>\n",
    "CHF 1.0237414 Swiss Franc<br>\n",
    "CNY 0.1550176 Chinese Yuan<br>\n",
    "DKK 0.1651442 Danish Krone<br>\n",
    "EUR 1.2296544 Euro<br>\n",
    "GBP 1.5550989 British Pound<br>\n",
    "HKD 0.1270207 Hong Kong Dollar<br>\n",
    "INR 0.0177643 Indian Rupee<br>\n",
    "JPY 0.01241401 Japanese Yen<br>\n",
    "MXN 0.0751848 Mexican Peso<br>\n",
    "MYR 0.3145411 Malaysian Ringgit<br>\n",
    "NOK 0.1677063 Norwegian Krone<br>\n",
    "NZD 0.8003591 New Zealand Dollar<br>\n",
    "PHP 0.0233234 Philippine Peso<br>\n",
    "SEK 0.148269 Swedish Krona<br>\n",
    "SGD 0.788871 Singapore Dollar<br>\n",
    "THB 0.0313789 Thai Baht<br>"
   ]
  },
  {
   "cell_type": "code",
   "execution_count": 5,
   "id": "a182618e",
   "metadata": {},
   "outputs": [
    {
     "name": "stdout",
     "output_type": "stream",
     "text": [
      "Enter the currency code: (e.g., 'JPY' for the Japanese Yen or 'EUR' for the Euro)INR\n",
      "Enter the amount: 100\n",
      "Amount in USD: 1.77643\n"
     ]
    }
   ],
   "source": [
    "def curconv(currency, amount):\n",
    "    currency_rates = {}\n",
    "    with open('currencies.txt', 'r') as file:\n",
    "        for line in file:\n",
    "            parts = line.split()\n",
    "            currency_rates[parts[0]] = float(parts[1])\n",
    "    \n",
    "        return amount * currency_rates[currency]\n",
    "    \n",
    "\n",
    "# Take input from the user\n",
    "currency_code = input(\"Enter the currency code: (e.g., 'JPY' for the Japanese Yen or 'EUR' for the Euro)\")\n",
    "amount = float(input(\"Enter the amount: \"))\n",
    "\n",
    "# Convert the amount to USD and print the result\n",
    "print(\"Amount in USD:\", curconv(currency_code, amount))\n"
   ]
  },
  {
   "cell_type": "markdown",
   "id": "a27da123",
   "metadata": {},
   "source": [
    "<b>Question 9:<br>\n",
    "    Each of the following will cause an exception (an error). Identify what type of\n",
    "exception each will cause.<br>\n",
    "Trying to add incompatible variables, as in\n",
    "adding 6 + ‘a’<br>\n",
    "Referring to the 12th item of a list that has only 10 items<br>\n",
    "Using a value that is out of range for a function’s\n",
    "input, such as calling math.sqrt(-1.0)<br>\n",
    "Using an undeclared variable, such as print(x)\n",
    "when x has not been defined<br>\n",
    "Trying to open a file that does not exist, such as\n",
    "mistyping the file name or looking in the wrong\n",
    "directory. "
   ]
  },
  {
   "cell_type": "markdown",
   "id": "2296ceaf",
   "metadata": {},
   "source": [
    "Trying to add incompatible variables, as in adding 6 + ‘a’:--\t<b>Unsupported type</b><br>\n",
    "Referring to the 12th item of a list that has only 10 items:--\t<b>Out of index</b><br>\n",
    "Using a value that is out of range for a function’s input, such as calling math.sqrt(-1.0):--\t<b>domain error</b><br>\n",
    "Using an undeclared variable, such as print(x) when x has not been defined:--\t<b>variable not defined</b><br>\n",
    "Trying to open a file that does not exist, such as mistyping the file name or looking in the wrong directory.:-- <b>No such directory found</b><br>"
   ]
  },
  {
   "cell_type": "markdown",
   "id": "bdd0665d",
   "metadata": {},
   "source": [
    "<b>Question 10:<br>\n",
    "    Encryption is the process of hiding the meaning of a text by substituting letters in the\n",
    "message with other letters, according to some system. If the process is successful, no\n",
    "one but the intended recipient can understand the encrypted message. Cryptanalysis\n",
    "refers to attempts to undo the encryption, even if some details of the encryption are\n",
    "unknown (for example, if an encrypted message has been intercepted). The first step\n",
    "of cryptanalysis is often to build up a table of letter frequencies in the encrypted text.\n",
    "Assume that the string letters is already defined as\n",
    "'abcdefghijklmnopqrstuvwxyz'. Write a function called frequencies()\n",
    "that takes a string as its only parameter, and returns a list of integers, showing the\n",
    "number of times each character appears in the text. Your function may ignore any\n",
    "characters that are not in letters.\n",
    ">>> frequencies('The quick red fox got bored and went home.')\n",
    "[1, 1, 1, 3, 5, 1, 1, 2, 1, 0, 1, 0, 1, 2, 4, 0, 1, 2, 0, 2,\n",
    "1, 0, 1, 1, 0, 0]\n",
    ">>> frequencies('apple')"
   ]
  },
  {
   "cell_type": "code",
   "execution_count": 9,
   "id": "db8d56ef",
   "metadata": {},
   "outputs": [],
   "source": [
    "def frequencies(text):\n",
    "    \n",
    "    #set of alphabets\n",
    "    alphabets = ('a','b','c','d','e','f','g','h','i','j','k','l','m','n','o','p','q','r','s','t','u','v','w','x','y','z')\n",
    "    total_characters = []\n",
    "    alpha_dict = {}\n",
    "    #picking character from every word of input and appending it to total_character list.\n",
    "    for word in text:\n",
    "        for char in word:\n",
    "            if char.isalpha():\n",
    "                total_characters.append(char)\n",
    "    #checking if the alphabet is present in the total_character list, then assigning it's count\n",
    "    for char in alphabets:\n",
    "        if char in total_characters:\n",
    "            alpha_dict[char] = total_characters.count(char)\n",
    "        else:\n",
    "            alpha_dict[char] = 0\n",
    "            \n",
    "    #printing out the values(count) of the alphabets present in the total_character list\n",
    "    print(list(alpha_dict.values()))"
   ]
  },
  {
   "cell_type": "code",
   "execution_count": 7,
   "id": "525056f9",
   "metadata": {},
   "outputs": [
    {
     "name": "stdout",
     "output_type": "stream",
     "text": [
      "[1, 1, 1, 3, 5, 1, 1, 2, 1, 0, 1, 0, 1, 2, 4, 0, 1, 2, 0, 2, 1, 0, 1, 1, 0, 0]\n"
     ]
    }
   ],
   "source": [
    "frequencies('The quick red fox got bored and went home.')"
   ]
  },
  {
   "cell_type": "code",
   "execution_count": 8,
   "id": "d9a971d2",
   "metadata": {},
   "outputs": [
    {
     "name": "stdout",
     "output_type": "stream",
     "text": [
      "[1, 0, 0, 0, 1, 0, 0, 0, 0, 0, 0, 1, 0, 0, 0, 2, 0, 0, 0, 0, 0, 0, 0, 0, 0, 0]\n"
     ]
    }
   ],
   "source": [
    "frequencies('apple')"
   ]
  },
  {
   "cell_type": "code",
   "execution_count": null,
   "id": "de339874",
   "metadata": {},
   "outputs": [],
   "source": []
  }
 ],
 "metadata": {
  "kernelspec": {
   "display_name": "Python 3 (ipykernel)",
   "language": "python",
   "name": "python3"
  },
  "language_info": {
   "codemirror_mode": {
    "name": "ipython",
    "version": 3
   },
   "file_extension": ".py",
   "mimetype": "text/x-python",
   "name": "python",
   "nbconvert_exporter": "python",
   "pygments_lexer": "ipython3",
   "version": "3.9.13"
  }
 },
 "nbformat": 4,
 "nbformat_minor": 5
}
